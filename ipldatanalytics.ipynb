{
  "nbformat": 4,
  "nbformat_minor": 0,
  "metadata": {
    "colab": {
      "provenance": [],
      "mount_file_id": "1ipE7g7o89KhxirueuNcZs8JW-CcaXMBg",
      "authorship_tag": "ABX9TyMHp88G+e+MiOeLkYr2t45p",
      "include_colab_link": true
    },
    "kernelspec": {
      "name": "python3",
      "display_name": "Python 3"
    },
    "language_info": {
      "name": "python"
    }
  },
  "cells": [
    {
      "cell_type": "markdown",
      "metadata": {
        "id": "view-in-github",
        "colab_type": "text"
      },
      "source": [
        "<a href=\"https://colab.research.google.com/github/Beepeen78/pysparkproject/blob/main/ipldatanalytics.ipynb\" target=\"_parent\"><img src=\"https://colab.research.google.com/assets/colab-badge.svg\" alt=\"Open In Colab\"/></a>"
      ]
    },
    {
      "cell_type": "code",
      "execution_count": 1,
      "metadata": {
        "colab": {
          "base_uri": "https://localhost:8080/"
        },
        "id": "17VDNtMJIGlM",
        "outputId": "c699f95b-9348-405c-e34f-b22bb9d4e952"
      },
      "outputs": [
        {
          "output_type": "stream",
          "name": "stdout",
          "text": [
            "Collecting pyspark\n",
            "  Downloading pyspark-3.5.0.tar.gz (316.9 MB)\n",
            "\u001b[2K     \u001b[90m━━━━━━━━━━━━━━━━━━━━━━━━━━━━━━━━━━━━━━━━\u001b[0m \u001b[32m316.9/316.9 MB\u001b[0m \u001b[31m2.3 MB/s\u001b[0m eta \u001b[36m0:00:00\u001b[0m\n",
            "\u001b[?25h  Preparing metadata (setup.py) ... \u001b[?25l\u001b[?25hdone\n",
            "Requirement already satisfied: py4j==0.10.9.7 in /usr/local/lib/python3.10/dist-packages (from pyspark) (0.10.9.7)\n",
            "Building wheels for collected packages: pyspark\n",
            "  Building wheel for pyspark (setup.py) ... \u001b[?25l\u001b[?25hdone\n",
            "  Created wheel for pyspark: filename=pyspark-3.5.0-py2.py3-none-any.whl size=317425345 sha256=129b1923a8a6d3341d5c57cad3653ca94d39b2103f55c02e38ad3d6fc9c0a2ca\n",
            "  Stored in directory: /root/.cache/pip/wheels/41/4e/10/c2cf2467f71c678cfc8a6b9ac9241e5e44a01940da8fbb17fc\n",
            "Successfully built pyspark\n",
            "Installing collected packages: pyspark\n",
            "Successfully installed pyspark-3.5.0\n"
          ]
        }
      ],
      "source": [
        "pip install pyspark"
      ]
    },
    {
      "cell_type": "code",
      "source": [
        "import sqlite3"
      ],
      "metadata": {
        "id": "rwly0TuTIfhe"
      },
      "execution_count": 2,
      "outputs": []
    },
    {
      "cell_type": "code",
      "source": [
        "conn = sqlite3.connect('ipl_2022_dataset.csv')"
      ],
      "metadata": {
        "id": "SIsqev77IqLD"
      },
      "execution_count": 3,
      "outputs": []
    },
    {
      "cell_type": "code",
      "source": [
        "import pandas as pd"
      ],
      "metadata": {
        "id": "jS3kDK72JDWi"
      },
      "execution_count": 4,
      "outputs": []
    },
    {
      "cell_type": "code",
      "source": [
        "from pyspark.sql import SparkSession"
      ],
      "metadata": {
        "id": "8z5ib_jWJJkz"
      },
      "execution_count": 5,
      "outputs": []
    },
    {
      "cell_type": "code",
      "source": [
        "from pyspark.sql import *"
      ],
      "metadata": {
        "id": "WWsIMRVoJRKR"
      },
      "execution_count": 6,
      "outputs": []
    },
    {
      "cell_type": "code",
      "source": [
        "#start spark session\n",
        "\n",
        "spark = SparkSession.builder \\\n",
        "        .master(\"local\") \\\n",
        "        .appName(\"practicesession\")\\\n",
        "        .getOrCreate()"
      ],
      "metadata": {
        "id": "5fi5M9QFJ27a"
      },
      "execution_count": 7,
      "outputs": []
    },
    {
      "cell_type": "code",
      "source": [
        "df = spark.read.csv('/content/ipl_2022_dataset.csv',inferSchema=True,header=True)"
      ],
      "metadata": {
        "id": "yiOZRnFFKF20"
      },
      "execution_count": 8,
      "outputs": []
    },
    {
      "cell_type": "code",
      "source": [
        "df.show()"
      ],
      "metadata": {
        "colab": {
          "base_uri": "https://localhost:8080/"
        },
        "id": "p0gNGy36KR2T",
        "outputId": "55e3a25d-7ad0-4ae7-a085-07ff22ec15dd"
      },
      "execution_count": 9,
      "outputs": [
        {
          "output_type": "stream",
          "name": "stdout",
          "text": [
            "+---+-------------------+----------+------------+---------------+---------------+----------+--------------+\n",
            "|_c0|             Player|Base Price|        TYPE|COST IN ₹ (CR.)|Cost IN $ (000)|2021 Squad|          Team|\n",
            "+---+-------------------+----------+------------+---------------+---------------+----------+--------------+\n",
            "|  0|        Rashid Khan|Draft Pick|      BOWLER|           15.0|         1950.0|       SRH|Gujarat Titans|\n",
            "|  1|      Hardik Pandya|Draft Pick| ALL-ROUNDER|           15.0|         1950.0|        MI|Gujarat Titans|\n",
            "|  2|    Lockie Ferguson|      2 Cr|      BOWLER|           10.0|         1300.0|       KKR|Gujarat Titans|\n",
            "|  3|      Rahul Tewatia|   40 Lakh| ALL-ROUNDER|            9.0|         1170.0|        RR|Gujarat Titans|\n",
            "|  4|       Shubman Gill|Draft Pick|      BATTER|            8.0|         1040.0|       KKR|Gujarat Titans|\n",
            "|  5|     Mohammad Shami|      2 Cr|      BOWLER|           6.25|          812.5|      PBKS|Gujarat Titans|\n",
            "|  6|         Yash Dayal|   20 Lakh|      BOWLER|            3.2|          416.0|      NULL|Gujarat Titans|\n",
            "|  7|       David Miller|      1 Cr|      BATTER|            3.0|          390.0|        RR|Gujarat Titans|\n",
            "|  8|     R. Sai Kishore|   20 Lakh|      BOWLER|            3.0|          390.0|       CSK|Gujarat Titans|\n",
            "|  9|Abhinav Sadarangani|   20 Lakh|      BATTER|            2.6|          338.0|      NULL|Gujarat Titans|\n",
            "| 10|       Matthew Wade|      2 Cr|WICKETKEEPER|            2.4|          312.0|      NULL|Gujarat Titans|\n",
            "| 11|     Alzarri Joseph|   75 Lakh|      BOWLER|            2.4|          312.0|      NULL|Gujarat Titans|\n",
            "| 12|          Jason Roy|      2 Cr|      BATTER|            2.0|          260.0|       SRH|Gujarat Titans|\n",
            "| 13|    Wriddhiman Saha|      1 Cr|WICKETKEEPER|            1.9|          247.0|       SRH|Gujarat Titans|\n",
            "| 14|       Jayant Yadav|      1 Cr| ALL-ROUNDER|            1.7|          221.0|        MI|Gujarat Titans|\n",
            "| 15|      Vijay Shankar|   50 Lakh| ALL-ROUNDER|            1.4|          182.0|       SRH|Gujarat Titans|\n",
            "| 16|     Dominic Drakes|   75 Lakh| ALL-ROUNDER|            1.1|          143.0|       CSK|Gujarat Titans|\n",
            "| 17|        Varun Aaron|   50 Lakh|      BOWLER|            0.5|           65.0|      NULL|Gujarat Titans|\n",
            "| 18|    Gurkeerat Singh|   50 Lakh| ALL-ROUNDER|            0.5|           65.0|       KKR|Gujarat Titans|\n",
            "| 19|         Noor Ahmad|   30 Lakh|      BOWLER|            0.3|           39.0|      NULL|Gujarat Titans|\n",
            "+---+-------------------+----------+------------+---------------+---------------+----------+--------------+\n",
            "only showing top 20 rows\n",
            "\n"
          ]
        }
      ]
    },
    {
      "cell_type": "code",
      "source": [
        "df2 = df.withColumnRenamed(\"player\",\"name\")\\\n",
        "      .withColumnRenamed(\"Base Price\",\"Base_Price\")\\\n",
        "      .withColumnRenamed(\"TYPE\",\"Speciality\")\\\n",
        "      .withColumnRenamed(\"COST IN Rs (CR.)\",\"INR Price\")\\\n",
        "      .withColumnRenamed(\"Cost IN $ (000)\",\"USD_PRICE\")\\\n",
        "      .withColumnRenamed(\"2021 Squad\",\"2021 Squard\")\\\n",
        "      .withColumnRenamed(\"Team\",\"player\")"
      ],
      "metadata": {
        "id": "FqASXWuSKe1j"
      },
      "execution_count": 52,
      "outputs": []
    },
    {
      "cell_type": "code",
      "source": [
        "df2.show()"
      ],
      "metadata": {
        "colab": {
          "base_uri": "https://localhost:8080/"
        },
        "id": "mj64iA49K99B",
        "outputId": "d226eba3-623c-4c81-c1a2-d7d6a68810b4"
      },
      "execution_count": 12,
      "outputs": [
        {
          "output_type": "stream",
          "name": "stdout",
          "text": [
            "+---+-------------------+----------+------------+---------------+---------+-----------+--------------+\n",
            "|_c0|               name|Base Price|  Speciality|COST IN ₹ (CR.)|USD_PRICE|2021 Squard|        player|\n",
            "+---+-------------------+----------+------------+---------------+---------+-----------+--------------+\n",
            "|  0|        Rashid Khan|Draft Pick|      BOWLER|           15.0|   1950.0|        SRH|Gujarat Titans|\n",
            "|  1|      Hardik Pandya|Draft Pick| ALL-ROUNDER|           15.0|   1950.0|         MI|Gujarat Titans|\n",
            "|  2|    Lockie Ferguson|      2 Cr|      BOWLER|           10.0|   1300.0|        KKR|Gujarat Titans|\n",
            "|  3|      Rahul Tewatia|   40 Lakh| ALL-ROUNDER|            9.0|   1170.0|         RR|Gujarat Titans|\n",
            "|  4|       Shubman Gill|Draft Pick|      BATTER|            8.0|   1040.0|        KKR|Gujarat Titans|\n",
            "|  5|     Mohammad Shami|      2 Cr|      BOWLER|           6.25|    812.5|       PBKS|Gujarat Titans|\n",
            "|  6|         Yash Dayal|   20 Lakh|      BOWLER|            3.2|    416.0|       NULL|Gujarat Titans|\n",
            "|  7|       David Miller|      1 Cr|      BATTER|            3.0|    390.0|         RR|Gujarat Titans|\n",
            "|  8|     R. Sai Kishore|   20 Lakh|      BOWLER|            3.0|    390.0|        CSK|Gujarat Titans|\n",
            "|  9|Abhinav Sadarangani|   20 Lakh|      BATTER|            2.6|    338.0|       NULL|Gujarat Titans|\n",
            "| 10|       Matthew Wade|      2 Cr|WICKETKEEPER|            2.4|    312.0|       NULL|Gujarat Titans|\n",
            "| 11|     Alzarri Joseph|   75 Lakh|      BOWLER|            2.4|    312.0|       NULL|Gujarat Titans|\n",
            "| 12|          Jason Roy|      2 Cr|      BATTER|            2.0|    260.0|        SRH|Gujarat Titans|\n",
            "| 13|    Wriddhiman Saha|      1 Cr|WICKETKEEPER|            1.9|    247.0|        SRH|Gujarat Titans|\n",
            "| 14|       Jayant Yadav|      1 Cr| ALL-ROUNDER|            1.7|    221.0|         MI|Gujarat Titans|\n",
            "| 15|      Vijay Shankar|   50 Lakh| ALL-ROUNDER|            1.4|    182.0|        SRH|Gujarat Titans|\n",
            "| 16|     Dominic Drakes|   75 Lakh| ALL-ROUNDER|            1.1|    143.0|        CSK|Gujarat Titans|\n",
            "| 17|        Varun Aaron|   50 Lakh|      BOWLER|            0.5|     65.0|       NULL|Gujarat Titans|\n",
            "| 18|    Gurkeerat Singh|   50 Lakh| ALL-ROUNDER|            0.5|     65.0|        KKR|Gujarat Titans|\n",
            "| 19|         Noor Ahmad|   30 Lakh|      BOWLER|            0.3|     39.0|       NULL|Gujarat Titans|\n",
            "+---+-------------------+----------+------------+---------------+---------+-----------+--------------+\n",
            "only showing top 20 rows\n",
            "\n"
          ]
        }
      ]
    },
    {
      "cell_type": "code",
      "source": [
        "df3=df2.drop('COST IN ₹ (CR.)')"
      ],
      "metadata": {
        "id": "R8XFZNvyLD67"
      },
      "execution_count": 53,
      "outputs": []
    },
    {
      "cell_type": "code",
      "source": [
        "df3.show()"
      ],
      "metadata": {
        "colab": {
          "base_uri": "https://localhost:8080/"
        },
        "id": "iSqV3w03LTSq",
        "outputId": "2256ddca-940e-4497-88ef-b2a0dda05209"
      },
      "execution_count": 54,
      "outputs": [
        {
          "output_type": "stream",
          "name": "stdout",
          "text": [
            "+---+-------------------+----------+------------+---------+-----------+--------------+\n",
            "|_c0|               name|Base_Price|  Speciality|USD_PRICE|2021 Squard|        player|\n",
            "+---+-------------------+----------+------------+---------+-----------+--------------+\n",
            "|  0|        Rashid Khan|Draft Pick|      BOWLER|   1950.0|        SRH|Gujarat Titans|\n",
            "|  1|      Hardik Pandya|Draft Pick| ALL-ROUNDER|   1950.0|         MI|Gujarat Titans|\n",
            "|  2|    Lockie Ferguson|      2 Cr|      BOWLER|   1300.0|        KKR|Gujarat Titans|\n",
            "|  3|      Rahul Tewatia|   40 Lakh| ALL-ROUNDER|   1170.0|         RR|Gujarat Titans|\n",
            "|  4|       Shubman Gill|Draft Pick|      BATTER|   1040.0|        KKR|Gujarat Titans|\n",
            "|  5|     Mohammad Shami|      2 Cr|      BOWLER|    812.5|       PBKS|Gujarat Titans|\n",
            "|  6|         Yash Dayal|   20 Lakh|      BOWLER|    416.0|       NULL|Gujarat Titans|\n",
            "|  7|       David Miller|      1 Cr|      BATTER|    390.0|         RR|Gujarat Titans|\n",
            "|  8|     R. Sai Kishore|   20 Lakh|      BOWLER|    390.0|        CSK|Gujarat Titans|\n",
            "|  9|Abhinav Sadarangani|   20 Lakh|      BATTER|    338.0|       NULL|Gujarat Titans|\n",
            "| 10|       Matthew Wade|      2 Cr|WICKETKEEPER|    312.0|       NULL|Gujarat Titans|\n",
            "| 11|     Alzarri Joseph|   75 Lakh|      BOWLER|    312.0|       NULL|Gujarat Titans|\n",
            "| 12|          Jason Roy|      2 Cr|      BATTER|    260.0|        SRH|Gujarat Titans|\n",
            "| 13|    Wriddhiman Saha|      1 Cr|WICKETKEEPER|    247.0|        SRH|Gujarat Titans|\n",
            "| 14|       Jayant Yadav|      1 Cr| ALL-ROUNDER|    221.0|         MI|Gujarat Titans|\n",
            "| 15|      Vijay Shankar|   50 Lakh| ALL-ROUNDER|    182.0|        SRH|Gujarat Titans|\n",
            "| 16|     Dominic Drakes|   75 Lakh| ALL-ROUNDER|    143.0|        CSK|Gujarat Titans|\n",
            "| 17|        Varun Aaron|   50 Lakh|      BOWLER|     65.0|       NULL|Gujarat Titans|\n",
            "| 18|    Gurkeerat Singh|   50 Lakh| ALL-ROUNDER|     65.0|        KKR|Gujarat Titans|\n",
            "| 19|         Noor Ahmad|   30 Lakh|      BOWLER|     39.0|       NULL|Gujarat Titans|\n",
            "+---+-------------------+----------+------------+---------+-----------+--------------+\n",
            "only showing top 20 rows\n",
            "\n"
          ]
        }
      ]
    },
    {
      "cell_type": "code",
      "source": [
        "#Top Batsman\n",
        "df3.select('name','USD_PRICE').where(df3.Speciality=='BATTER').orderBy('USD_PRICE', ascending= False).show(3)"
      ],
      "metadata": {
        "colab": {
          "base_uri": "https://localhost:8080/"
        },
        "id": "l6rh117pLZmq",
        "outputId": "c55551aa-9f7c-4c9c-8469-eb0c570176fd"
      },
      "execution_count": 17,
      "outputs": [
        {
          "output_type": "stream",
          "name": "stdout",
          "text": [
            "+---------------+---------+\n",
            "|           name|USD_PRICE|\n",
            "+---------------+---------+\n",
            "|   Rohit Sharma|   2080.0|\n",
            "|    Virat Kohli|   1950.0|\n",
            "|Kane Williamson|   1820.0|\n",
            "+---------------+---------+\n",
            "only showing top 3 rows\n",
            "\n"
          ]
        }
      ]
    },
    {
      "cell_type": "code",
      "source": [
        "df3.createOrReplaceTempView('ipl')"
      ],
      "metadata": {
        "id": "TqZPU4HOaM3u"
      },
      "execution_count": 56,
      "outputs": []
    },
    {
      "cell_type": "code",
      "source": [
        "# Top 3 batsman who got paid the most?\n",
        "spark.sql(\"\"\"SELECT name, USD_PRICE FROM ipl WHERE speciality = 'BATTER' ORDER BY 2 DESC LIMIT 3\"\"\").show()"
      ],
      "metadata": {
        "colab": {
          "base_uri": "https://localhost:8080/"
        },
        "id": "12Svyke7fK1v",
        "outputId": "8f3adb1e-b0be-4c30-f2ab-9901989f61f9"
      },
      "execution_count": 57,
      "outputs": [
        {
          "output_type": "stream",
          "name": "stdout",
          "text": [
            "+---------------+---------+\n",
            "|           name|USD_PRICE|\n",
            "+---------------+---------+\n",
            "|   Rohit Sharma|   2080.0|\n",
            "|    Virat Kohli|   1950.0|\n",
            "|Kane Williamson|   1820.0|\n",
            "+---------------+---------+\n",
            "\n"
          ]
        }
      ]
    },
    {
      "cell_type": "code",
      "source": [
        "# Top 5 bowlers who get paid the most?\n",
        "df3.select('name','USD_PRICE').filter(df3.Speciality=='BOWLER').orderBy('USD_PRICE',ascending=False).show(5)"
      ],
      "metadata": {
        "colab": {
          "base_uri": "https://localhost:8080/"
        },
        "id": "bafQLitlfhYe",
        "outputId": "64859b81-adb3-46fd-9800-967a8d6e6b59"
      },
      "execution_count": 37,
      "outputs": [
        {
          "output_type": "stream",
          "name": "stdout",
          "text": [
            "+---------------+---------+\n",
            "|           name|USD_PRICE|\n",
            "+---------------+---------+\n",
            "|    Rashid Khan|   1950.0|\n",
            "|  Deepak Chahar|   1820.0|\n",
            "| Jasprit Bumrah|   1560.0|\n",
            "| Shardul Thakur|   1397.5|\n",
            "|Lockie Ferguson|   1300.0|\n",
            "+---------------+---------+\n",
            "only showing top 5 rows\n",
            "\n"
          ]
        }
      ]
    },
    {
      "cell_type": "code",
      "source": [
        "spark.sql(\"\"\"SELECT name, USD_PRICE FROM ipl WHERE speciality = 'BOWLER' ORDER By 2 DESC LIMIT 5 \"\"\").show()"
      ],
      "metadata": {
        "colab": {
          "base_uri": "https://localhost:8080/"
        },
        "id": "SI4b2BM_gJJg",
        "outputId": "a84fa73b-ab37-4ddc-bd97-3ce3c3849db0"
      },
      "execution_count": 39,
      "outputs": [
        {
          "output_type": "stream",
          "name": "stdout",
          "text": [
            "+--------------+---------+\n",
            "|          name|USD_PRICE|\n",
            "+--------------+---------+\n",
            "|   Rashid Khan|   1950.0|\n",
            "| Deepak Chahar|   1820.0|\n",
            "|Jasprit Bumrah|   1560.0|\n",
            "|Shardul Thakur|   1397.5|\n",
            "|    Avesh Khan|   1300.0|\n",
            "+--------------+---------+\n",
            "\n"
          ]
        }
      ]
    },
    {
      "cell_type": "code",
      "source": [
        "# Top 5 All-Rounders who get paid the most?\n",
        "spark.sql(\"\"\"SELECT name, USD_PRICE FROM ipl where speciality='ALL-ROUNDER' ORDER By 2 DESC LIMIT 5\"\"\").show()"
      ],
      "metadata": {
        "colab": {
          "base_uri": "https://localhost:8080/"
        },
        "id": "9Qr3fEW1gpoP",
        "outputId": "af2f6999-3f05-4d9d-f22f-b21aabb0c7fd"
      },
      "execution_count": 42,
      "outputs": [
        {
          "output_type": "stream",
          "name": "stdout",
          "text": [
            "+----------------+---------+\n",
            "|            name|USD_PRICE|\n",
            "+----------------+---------+\n",
            "| Ravindra Jadeja|   2080.0|\n",
            "|   Hardik Pandya|   1950.0|\n",
            "|   Andre Russell|   1560.0|\n",
            "|Liam Livingstone|   1495.0|\n",
            "|   Glenn Maxwell|   1430.0|\n",
            "+----------------+---------+\n",
            "\n"
          ]
        }
      ]
    },
    {
      "cell_type": "code",
      "source": [
        "# Average pay for Batsman, Bowler, All-Rounder, Wicket-Keeper?\n",
        "from pyspark.sql import functions as F\n",
        "spark.sql(\"\"\"SELECT speciality, round(avg(USD_PRICE),2) average_price FROM ipl GROUP BY 1 ORDER BY 2 DESC\"\"\").show()\n"
      ],
      "metadata": {
        "colab": {
          "base_uri": "https://localhost:8080/"
        },
        "id": "HaagY4PhhOBn",
        "outputId": "95548151-45c2-4315-d200-6e66938e3be4"
      },
      "execution_count": 46,
      "outputs": [
        {
          "output_type": "stream",
          "name": "stdout",
          "text": [
            "+------------+-------------+\n",
            "|  speciality|average_price|\n",
            "+------------+-------------+\n",
            "|WICKETKEEPER|       661.31|\n",
            "|      BATTER|       534.01|\n",
            "| ALL-ROUNDER|       468.81|\n",
            "|      BOWLER|       399.03|\n",
            "+------------+-------------+\n",
            "\n"
          ]
        }
      ]
    },
    {
      "cell_type": "code",
      "source": [
        "# List of Retained players with team name and salary?\n",
        "spark.sql(\"\"\"SELECT name, USD_PRICE FROM ipl WHERE Base_price =\"Retained\" ORDER BY 2 DESC LIMIT 5 \"\"\").show()"
      ],
      "metadata": {
        "colab": {
          "base_uri": "https://localhost:8080/"
        },
        "id": "HYCdMkRaiDQy",
        "outputId": "7d98dd50-c17d-4ded-cd50-88e0aedf1bd2"
      },
      "execution_count": 58,
      "outputs": [
        {
          "output_type": "stream",
          "name": "stdout",
          "text": [
            "+---------------+---------+\n",
            "|           name|USD_PRICE|\n",
            "+---------------+---------+\n",
            "|Ravindra Jadeja|   2080.0|\n",
            "|   Rishabh Pant|   2080.0|\n",
            "|   Rohit Sharma|   2080.0|\n",
            "|    Virat Kohli|   1950.0|\n",
            "|   Sanju Samson|   1820.0|\n",
            "+---------------+---------+\n",
            "\n"
          ]
        }
      ]
    },
    {
      "cell_type": "code",
      "source": [
        "from google.colab import drive\n",
        "drive.mount('/content/drive')"
      ],
      "metadata": {
        "colab": {
          "base_uri": "https://localhost:8080/"
        },
        "id": "Pt3hSTXmjiHe",
        "outputId": "f8aea1d3-3082-4dd5-b602-bf009bd3d5c9"
      },
      "execution_count": 60,
      "outputs": [
        {
          "output_type": "stream",
          "name": "stdout",
          "text": [
            "Mounted at /content/drive\n"
          ]
        }
      ]
    },
    {
      "cell_type": "code",
      "source": [
        "!git clone https://github.com/Beepeen78/Data-analytics-project-with-pyspark.git"
      ],
      "metadata": {
        "colab": {
          "base_uri": "https://localhost:8080/"
        },
        "id": "ouo9wQuhkC51",
        "outputId": "46a0c346-1bf0-4ea5-9e3f-45e083b29319"
      },
      "execution_count": 63,
      "outputs": [
        {
          "output_type": "stream",
          "name": "stdout",
          "text": [
            "fatal: destination path 'Data-analytics-project-with-pyspark' already exists and is not an empty directory.\n"
          ]
        }
      ]
    }
  ]
}